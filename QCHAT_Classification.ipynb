{
 "cells": [
  {
   "cell_type": "markdown",
   "id": "8d2759ee",
   "metadata": {},
   "source": [
    "# QCHAT Classification Workflow\n",
    "\n",
    "This notebook demonstrates the workflow for QCHAT-based ASD vs. TD classification using a fine-tuned RoBERTa model."
   ]
  },
  {
   "cell_type": "code",
   "execution_count": null,
   "id": "e4af28f0",
   "metadata": {},
   "outputs": [],
   "source": [
    "\n",
    "import os\n",
    "import random\n",
    "import numpy as np\n",
    "import pandas as pd\n",
    "import torch\n",
    "from torch.utils.data import Dataset\n",
    "from transformers import RobertaTokenizerFast, RobertaForSequenceClassification, Trainer, TrainingArguments\n",
    "from sklearn.model_selection import StratifiedGroupKFold\n",
    "from sklearn.metrics import (\n",
    "    f1_score, precision_score, recall_score, accuracy_score, roc_auc_score, average_precision_score\n",
    ")\n",
    "from scipy.special import softmax\n",
    "\n",
    "# Set random seed for reproducibility\n",
    "def set_seed(random_seed):\n",
    "    torch.manual_seed(random_seed)\n",
    "    torch.cuda.manual_seed(random_seed)\n",
    "    np.random.seed(random_seed)\n",
    "    random.seed(random_seed)\n",
    "\n",
    "random_seed = 42\n",
    "set_seed(random_seed)\n"
   ]
  },
  {
   "cell_type": "markdown",
   "id": "f12b6130",
   "metadata": {},
   "source": [
    "## Step 1: Load and Preprocess Data"
   ]
  },
  {
   "cell_type": "code",
   "execution_count": null,
   "id": "8b7f6b71",
   "metadata": {},
   "outputs": [],
   "source": [
    "\n",
    "# Load and preprocess data\n",
    "data_path = './QCHAT_T_ASD_KQCHAT_1004PJT_CL_dec052024.csv'\n",
    "data = pd.read_csv(data_path)\n",
    "\n",
    "# Map 'Class/ASD Traits' to binary labels\n",
    "data['Class/ASD Traits2'] = data['Class/ASD Traits'].map({'ASD': 'Yes', 'ASD_HIGH': 'Yes', 'NORMAL': 'No'})\n",
    "Q_ASD_mapping = {'No': 0, 'Yes': 1}\n",
    "data['label'] = data['Class/ASD Traits2'].map(Q_ASD_mapping)\n",
    "\n",
    "# StratifiedGroupKFold for splitting\n",
    "sgkf = StratifiedGroupKFold(n_splits=5, shuffle=True, random_state=42)\n",
    "for train_idx, test_idx in sgkf.split(data, data['label'], groups=data['SubjectId']):\n",
    "    break\n",
    "\n",
    "train_val = data.iloc[train_idx].reset_index(drop=True)\n",
    "test = data.iloc[test_idx].reset_index(drop=True)\n",
    "\n",
    "sgkf_val = StratifiedGroupKFold(n_splits=4, shuffle=True, random_state=42)\n",
    "for train_inner_idx, val_idx in sgkf_val.split(train_val, train_val['label'], groups=train_val['SubjectId']):\n",
    "    break\n",
    "\n",
    "train = train_val.iloc[train_inner_idx].reset_index(drop=True)\n",
    "val = train_val.iloc[val_idx].reset_index(drop=True)\n"
   ]
  },
  {
   "cell_type": "markdown",
   "id": "1a488a63",
   "metadata": {},
   "source": [
    "## Step 2: Tokenize Data"
   ]
  },
  {
   "cell_type": "code",
   "execution_count": null,
   "id": "514a4be9",
   "metadata": {},
   "outputs": [],
   "source": [
    "\n",
    "# Tokenizer and Model\n",
    "tokenizer = RobertaTokenizerFast.from_pretrained('roberta-large')\n",
    "model = RobertaForSequenceClassification.from_pretrained('roberta-large', num_labels=2)\n",
    "\n",
    "def tokenize_and_pad(dataset):\n",
    "    return tokenizer(\n",
    "        dataset['combined'].tolist(),  # Text column for tokenization\n",
    "        truncation=True,\n",
    "        padding=True,\n",
    "        max_length=512\n",
    "    )\n",
    "\n",
    "train_encodings = tokenize_and_pad(train)\n",
    "val_encodings = tokenize_and_pad(val)\n",
    "test_encodings = tokenize_and_pad(test)\n",
    "\n",
    "train_subject_ids = train['SubjectId'].tolist()\n",
    "val_subject_ids = val['SubjectId'].tolist()\n",
    "test_subject_ids = test['SubjectId'].tolist()\n"
   ]
  },
  {
   "cell_type": "markdown",
   "id": "2d0b4663",
   "metadata": {},
   "source": [
    "## Step 3: Create Dataset Class"
   ]
  },
  {
   "cell_type": "code",
   "execution_count": null,
   "id": "b500a185",
   "metadata": {},
   "outputs": [],
   "source": [
    "\n",
    "# Define Dataset Class\n",
    "class QCHATDataset(Dataset):\n",
    "    def __init__(self, encodings, labels, subject_ids):\n",
    "        self.encodings = encodings\n",
    "        self.labels = labels\n",
    "        self.subject_ids = subject_ids\n",
    "\n",
    "    def __getitem__(self, idx):\n",
    "        item = {key: torch.tensor(val[idx]) for key, val in self.encodings.items()}\n",
    "        item['labels'] = torch.tensor(self.labels[idx])\n",
    "        item['SubjectId'] = self.subject_ids[idx]\n",
    "        return item\n",
    "\n",
    "    def __len__(self):\n",
    "        return len(self.labels)\n",
    "\n",
    "train_dataset = QCHATDataset(train_encodings, train['label'].tolist(), train_subject_ids)\n",
    "val_dataset = QCHATDataset(val_encodings, val['label'].tolist(), val_subject_ids)\n",
    "test_dataset = QCHATDataset(test_encodings, test['label'].tolist(), test_subject_ids)\n"
   ]
  },
  {
   "cell_type": "markdown",
   "id": "031d3b04",
   "metadata": {},
   "source": [
    "## Step 4: Train the Model"
   ]
  },
  {
   "cell_type": "code",
   "execution_count": null,
   "id": "f7547a28",
   "metadata": {},
   "outputs": [],
   "source": [
    "\n",
    "# Training Arguments\n",
    "training_args = TrainingArguments(\n",
    "    output_dir='./output',\n",
    "    num_train_epochs=8,\n",
    "    per_device_train_batch_size=8,\n",
    "    per_device_eval_batch_size=8,\n",
    "    evaluation_strategy='epoch',\n",
    "    save_strategy='epoch',\n",
    "    learning_rate=2e-5,\n",
    "    gradient_accumulation_steps=4,\n",
    "    load_best_model_at_end=True,\n",
    "    metric_for_best_model='eval_loss',\n",
    "    logging_dir='./Roberta/log',\n",
    ")\n",
    "\n",
    "# Evaluation Metrics\n",
    "def compute_metrics_binary(p):  \n",
    "    predictions, labels = p\n",
    "    probabilities = softmax(predictions, axis=1)\n",
    "    predictions = np.argmax(probabilities, axis=1)\n",
    "    return {\n",
    "        \"accuracy\": accuracy_score(labels, predictions),\n",
    "        \"f1\": f1_score(labels, predictions),\n",
    "        \"precision\": precision_score(labels, predictions),\n",
    "        \"recall\": recall_score(labels, predictions),\n",
    "        \"roc_auc\": roc_auc_score(labels, probabilities[:, 1]),\n",
    "        \"average_precision\": average_precision_score(labels, probabilities[:, 1]),\n",
    "    }\n",
    "\n",
    "# Trainer\n",
    "trainer = Trainer(\n",
    "    model=model,\n",
    "    args=training_args,\n",
    "    train_dataset=train_dataset,\n",
    "    eval_dataset=val_dataset,\n",
    "    compute_metrics=compute_metrics_binary,\n",
    ")\n",
    "\n",
    "trainer.train()\n"
   ]
  },
  {
   "cell_type": "markdown",
   "id": "68fc5fd2",
   "metadata": {},
   "source": [
    "## Step 5: Save the Model"
   ]
  },
  {
   "cell_type": "code",
   "execution_count": null,
   "id": "eaecb5ec",
   "metadata": {},
   "outputs": [],
   "source": [
    "\n",
    "# Save Model\n",
    "save_directory = \"./Roberta_QCHAT_Model\"\n",
    "trainer.save_model(save_directory)\n",
    "tokenizer.save_pretrained(save_directory)\n"
   ]
  }
 ],
 "metadata": {},
 "nbformat": 4,
 "nbformat_minor": 5
}
