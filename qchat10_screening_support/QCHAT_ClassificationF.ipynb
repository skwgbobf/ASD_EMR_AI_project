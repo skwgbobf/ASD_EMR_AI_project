{
 "cells": [
  {
   "cell_type": "markdown",
   "id": "8d2759ee",
   "metadata": {},
   "source": [
    "# QCHAT Classification Workflow\n",
    "\n",
    "This notebook demonstrates the workflow for QCHAT-based ASD vs. TD classification using a fine-tuned RoBERTa model."
   ]
  },
  {
   "cell_type": "code",
   "execution_count": null,
   "id": "e4af28f0",
   "metadata": {},
   "outputs": [],
   "source": [
    "\n",
    "import os\n",
    "import random\n",
    "import numpy as np\n",
    "import pandas as pd\n",
    "import torch\n",
    "from torch.utils.data import Dataset\n",
    "from transformers import RobertaTokenizerFast, RobertaForSequenceClassification, Trainer, TrainingArguments\n",
    "from sklearn.model_selection import StratifiedGroupKFold\n",
    "from sklearn.metrics import (\n",
    "    f1_score, precision_score, recall_score, accuracy_score, roc_auc_score, average_precision_score\n",
    ")\n",
    "from scipy.special import softmax\n",
    "\n",
    "# Set random seed for reproducibility\n",
    "def set_seed(random_seed):\n",
    "    torch.manual_seed(random_seed)\n",
    "    torch.cuda.manual_seed(random_seed)\n",
    "    np.random.seed(random_seed)\n",
    "    random.seed(random_seed)\n",
    "\n",
    "random_seed = 42\n",
    "set_seed(random_seed)\n"
   ]
  },
  {
   "cell_type": "markdown",
   "id": "f12b6130",
   "metadata": {},
   "source": [
    "## Step 1: Load and Preprocess Data"
   ]
  },
  {
   "cell_type": "code",
   "execution_count": null,
   "id": "682cd70b",
   "metadata": {},
   "outputs": [],
   "source": [
    "def augment_and_combine(data):\n",
    "    \"\"\"\n",
    "    Augments the dataset by adding descriptive contrasts to prevent overfitting.\n",
    "\n",
    "    Args:\n",
    "        data (pd.DataFrame): Input dataframe with binary survey responses.\n",
    "\n",
    "    Returns:\n",
    "        pd.DataFrame: Augmented dataframe with additional descriptive text columns.\n",
    "    \"\"\"\n",
    "    # Augmentation for 'A1' (e.g., Attention and Concentration)\n",
    "    data['A1_C2977673'] = ['attention and concentration deficit' if x == 1 else '' for x in data['A1']]\n",
    "    data['A1_C1619754'] = ['usually looks up and pays attention when spoken to' if x == 0 else '' for x in data['A1']]\n",
    "    \n",
    "    # Augmentation for 'A2' (e.g., Eye Contact)\n",
    "    data['A2_C0870532'] = ['contacts eye' if x == 1 else '' for x in data['A2']]\n",
    "    data['A2_C4229998'] = ['lack of eye contact' if x == 0 else '' for x in data['A2']]\n",
    "    \n",
    "    data['A3_C4036288'] = ['spontaneously pointing' if x == 1 else '' for x in data['A3']]\n",
    "    data['A4_C0424091'] = ['pointing to express interest' if x == 1 else '' for x in data['A4']]\n",
    "    data['A5_C2371970'] = ['does pretend play' if x == 1 else '' for x in data['A5']]\n",
    "    data['A6_C2370875'] = ['shifting attention' if x == 1 else '' for x in data['A6']]\n",
    "    data['A7_C4064035'] = ['social interaction impairment in social/emotional reciprocity' if x == 1 else '' for x in data['A7']]\n",
    "    data['A8_C1854882'] = ['absent speech' if x == 1 else '' for x in data['A8']]\n",
    "    data['A8_C3534588'] = ['speech and language problems in children' if x == 1 else '' for x in data['A8']]\n",
    "    data['A9_C0566243'] = ['difficulty imitating gesture' if x == 1 else '' for x in data['A9']]\n",
    "    data['A10_C4064319'] = ['play impairment stares blankly at play objects rather than manipulating them' if x == 1 else '' for x in data['A10']]\n",
    "\n",
    "    # Combine all descriptive columns into a single text field\n",
    "    descriptive_columns = ['A1_C2977673','A1_C1619754','A2_C0870532','A2_C4229998'\n",
    "        'A3_C4036288', 'A4_C0424091', 'A5_C2371970', 'A6_C2370875',\n",
    "        'A7_C4064035', 'A8_C1854882', 'A8_C3534588', 'A9_C0566243', 'A10_C4064319'\n",
    "    ]\n",
    "    data['combined'] = data[descriptive_columns].apply(lambda x: \" ,\".join(x), axis=1)\n",
    "\n",
    "    # Map class labels to binary values\n",
    "    data['Class/ASD Traits2'] = data['Class/ASD Traits'].map({\n",
    "        'ASD': 'Yes',\n",
    "        'ASD_HIGH': 'Yes',\n",
    "        'NORMAL': 'No'\n",
    "    })\n",
    "    label_mapping = {'No': 0, 'Yes': 1}  # 0: TD, 1: ASD or high risk\n",
    "    data['label'] = data['Class/ASD Traits2'].replace(label_mapping)\n",
    "\n",
    "    # Create final dataset with necessary columns\n",
    "    final_data = data[['SubjectId', 'Class/ASD Traits2', 'combined']]\n",
    "    final_data.columns = ['SubjectId', 'Class', 'text']\n",
    "    final_data['label'] = data['label']\n",
    "\n",
    "    return final_data\n"
   ]
  },
  {
   "cell_type": "code",
   "execution_count": null,
   "id": "8b7f6b71",
   "metadata": {},
   "outputs": [],
   "source": [
    "\n",
    "# Load and preprocess data\n",
    "data_path = './QCHAT_T_ASD_KQCHAT_1004PJT_CL_dec052024.csv'\n",
    "data = pd.read_csv(data_path)\n",
    "\n",
    "# Augment and combine text data\n",
    "data = augment_and_combine(data)\n",
    "\n",
    "\n",
    "# StratifiedGroupKFold for splitting\n",
    "sgkf = StratifiedGroupKFold(n_splits=5, shuffle=True, random_state=42)\n",
    "for train_idx, test_idx in sgkf.split(data, data['label'], groups=data['SubjectId']):\n",
    "    break\n",
    "\n",
    "train_val = data.iloc[train_idx].reset_index(drop=True)\n",
    "test = data.iloc[test_idx].reset_index(drop=True)\n",
    "\n",
    "sgkf_val = StratifiedGroupKFold(n_splits=4, shuffle=True, random_state=42)\n",
    "for train_inner_idx, val_idx in sgkf_val.split(train_val, train_val['label'], groups=train_val['SubjectId']):\n",
    "    break\n",
    "\n",
    "train = train_val.iloc[train_inner_idx].reset_index(drop=True)\n",
    "val = train_val.iloc[val_idx].reset_index(drop=True)\n"
   ]
  },
  {
   "cell_type": "markdown",
   "id": "1a488a63",
   "metadata": {},
   "source": [
    "## Step 2: Tokenize Data"
   ]
  },
  {
   "cell_type": "code",
   "execution_count": null,
   "id": "514a4be9",
   "metadata": {},
   "outputs": [],
   "source": [
    "\n",
    "# Tokenizer and Model\n",
    "tokenizer = RobertaTokenizerFast.from_pretrained('roberta-large')\n",
    "model = RobertaForSequenceClassification.from_pretrained('roberta-large', num_labels=2)\n",
    "\n",
    "def tokenize_and_pad(dataset):\n",
    "    return tokenizer(\n",
    "        dataset['combined'].tolist(),  # Text column for tokenization\n",
    "        truncation=True,\n",
    "        padding=True,\n",
    "        max_length=512\n",
    "    )\n",
    "\n",
    "train_encodings = tokenize_and_pad(train)\n",
    "val_encodings = tokenize_and_pad(val)\n",
    "test_encodings = tokenize_and_pad(test)\n",
    "\n",
    "train_subject_ids = train['SubjectId'].tolist()\n",
    "val_subject_ids = val['SubjectId'].tolist()\n",
    "test_subject_ids = test['SubjectId'].tolist()\n"
   ]
  },
  {
   "cell_type": "markdown",
   "id": "2d0b4663",
   "metadata": {},
   "source": [
    "## Step 3: Create Dataset Class"
   ]
  },
  {
   "cell_type": "code",
   "execution_count": null,
   "id": "b500a185",
   "metadata": {},
   "outputs": [],
   "source": [
    "\n",
    "# Define Dataset Class\n",
    "class QCHATDataset(Dataset):\n",
    "    def __init__(self, encodings, labels, subject_ids):\n",
    "        self.encodings = encodings\n",
    "        self.labels = labels\n",
    "        self.subject_ids = subject_ids\n",
    "\n",
    "    def __getitem__(self, idx):\n",
    "        item = {key: torch.tensor(val[idx]) for key, val in self.encodings.items()}\n",
    "        item['labels'] = torch.tensor(self.labels[idx])\n",
    "        item['SubjectId'] = self.subject_ids[idx]\n",
    "        return item\n",
    "\n",
    "    def __len__(self):\n",
    "        return len(self.labels)\n",
    "\n",
    "train_dataset = QCHATDataset(train_encodings, train['label'].tolist(), train_subject_ids)\n",
    "val_dataset = QCHATDataset(val_encodings, val['label'].tolist(), val_subject_ids)\n",
    "test_dataset = QCHATDataset(test_encodings, test['label'].tolist(), test_subject_ids)\n"
   ]
  },
  {
   "cell_type": "markdown",
   "id": "031d3b04",
   "metadata": {},
   "source": [
    "## Step 4: Train the Model"
   ]
  },
  {
   "cell_type": "code",
   "execution_count": null,
   "id": "f7547a28",
   "metadata": {},
   "outputs": [],
   "source": [
    "\n",
    "# Training Arguments\n",
    "training_args = TrainingArguments(\n",
    "    output_dir='./output',\n",
    "    num_train_epochs=8,\n",
    "    per_device_train_batch_size=8,\n",
    "    per_device_eval_batch_size=8,\n",
    "    evaluation_strategy='epoch',\n",
    "    save_strategy='epoch',\n",
    "    learning_rate=2e-5,\n",
    "    gradient_accumulation_steps=4,\n",
    "    load_best_model_at_end=True,\n",
    "    metric_for_best_model='eval_loss',\n",
    "    logging_dir='./Roberta/log',\n",
    ")\n",
    "\n",
    "# Evaluation Metrics\n",
    "def compute_metrics_binary(p):  \n",
    "    predictions, labels = p\n",
    "    probabilities = softmax(predictions, axis=1)\n",
    "    predictions = np.argmax(probabilities, axis=1)\n",
    "    return {\n",
    "        \"accuracy\": accuracy_score(labels, predictions),\n",
    "        \"f1\": f1_score(labels, predictions),\n",
    "        \"precision\": precision_score(labels, predictions),\n",
    "        \"recall\": recall_score(labels, predictions),\n",
    "        \"roc_auc\": roc_auc_score(labels, probabilities[:, 1]),\n",
    "        \"average_precision\": average_precision_score(labels, probabilities[:, 1]),\n",
    "    }\n",
    "\n",
    "# Trainer\n",
    "trainer = Trainer(\n",
    "    model=model,\n",
    "    args=training_args,\n",
    "    train_dataset=train_dataset,\n",
    "    eval_dataset=val_dataset,\n",
    "    compute_metrics=compute_metrics_binary,\n",
    ")\n",
    "\n",
    "trainer.train()\n"
   ]
  },
  {
   "cell_type": "markdown",
   "id": "68fc5fd2",
   "metadata": {},
   "source": [
    "## Step 5: Save the Model"
   ]
  },
  {
   "cell_type": "code",
   "execution_count": null,
   "id": "eaecb5ec",
   "metadata": {},
   "outputs": [],
   "source": [
    "\n",
    "# Save Model\n",
    "save_directory = \"./Roberta_QCHAT_Model\"\n",
    "trainer.save_model(save_directory)\n",
    "tokenizer.save_pretrained(save_directory)\n"
   ]
  }
 ],
 "metadata": {
  "language_info": {
   "name": "python"
  }
 },
 "nbformat": 4,
 "nbformat_minor": 5
}
